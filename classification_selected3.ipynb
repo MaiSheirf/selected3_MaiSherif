{
  "nbformat": 4,
  "nbformat_minor": 0,
  "metadata": {
    "colab": {
      "name": "classification_selected3.ipynb",
      "provenance": [],
      "collapsed_sections": []
    },
    "kernelspec": {
      "name": "python3",
      "display_name": "Python 3"
    },
    "language_info": {
      "name": "python"
    }
  },
  "cells": [
    {
      "cell_type": "code",
      "source": [
        "from google.colab import drive\n",
        "drive.mount('/content/drive')"
      ],
      "metadata": {
        "colab": {
          "base_uri": "https://localhost:8080/"
        },
        "id": "JIVAbxSycroY",
        "outputId": "3e67ceb1-a153-4afc-8b06-83f875a12b7f"
      },
      "execution_count": null,
      "outputs": [
        {
          "output_type": "stream",
          "name": "stdout",
          "text": [
            "Mounted at /content/drive\n"
          ]
        }
      ]
    },
    {
      "cell_type": "code",
      "source": [
        "import pandas\n",
        "import keras\n",
        "from keras.models import Sequential\n",
        "from keras.layers import Dense\n",
        "import numpy as np\n",
        "from keras.models import Sequential\n",
        "from keras.layers import Dense\n",
        "from sklearn.preprocessing import LabelEncoder\n",
        "from keras.preprocessing.text import Tokenizer\n",
        "from keras.models import Sequential\n",
        "from keras.layers import Dense, Activation, Dropout\n",
        "import keras.preprocessing.text\n",
        "import keras.backend as K\n",
        "import pickle"
      ],
      "metadata": {
        "id": "VRWu8-zXtVV6"
      },
      "execution_count": null,
      "outputs": []
    },
    {
      "cell_type": "code",
      "source": [
        "filePath=\"/content/drive/MyDrive/classification_selected3/Scrapped_Data.csv\"\n",
        "dataframe = pandas.read_csv(filePath, header=0)\n",
        "dataframe.drop_duplicates(inplace=True)\n",
        "data = dataframe\n",
        "print(dataframe.head())"
      ],
      "metadata": {
        "colab": {
          "base_uri": "https://localhost:8080/"
        },
        "id": "ECePl6NXtbGs",
        "outputId": "07683de2-e344-488c-ac62-d7019f5670a8"
      },
      "execution_count": null,
      "outputs": [
        {
          "output_type": "stream",
          "name": "stdout",
          "text": [
            "                    اسم الكاتب  ...                                        ملخص الكتاب\n",
            "0  كتاب التاريخ الصغير ج 2 PDF  ...  \\n\\n\\n\\r\\n     (adsbygoogle = window.adsbygoog...\n",
            "2  كتاب التاريخ الكبير ج 6 PDF  ...  \\n\\n\\n\\r\\n     (adsbygoogle = window.adsbygoog...\n",
            "3  كتاب التاريخ الكبير ج 3 PDF  ...  \\n\\n\\n\\r\\n     (adsbygoogle = window.adsbygoog...\n",
            "4  كتاب التاريخ الكبير ج 4 PDF  ...  \\n\\n\\n\\r\\n     (adsbygoogle = window.adsbygoog...\n",
            "5  كتاب التاريخ الكبير ج 5 PDF  ...  \\n\\n\\n\\r\\n     (adsbygoogle = window.adsbygoog...\n",
            "\n",
            "[5 rows x 6 columns]\n"
          ]
        }
      ]
    },
    {
      "cell_type": "code",
      "source": [
        "print(type(data['اسم الكاتب']))"
      ],
      "metadata": {
        "colab": {
          "base_uri": "https://localhost:8080/"
        },
        "id": "7bXnp5lITxK_",
        "outputId": "a19df8e8-54fe-45e2-c702-0487fb68db4f"
      },
      "execution_count": null,
      "outputs": [
        {
          "output_type": "stream",
          "name": "stdout",
          "text": [
            "<class 'pandas.core.series.Series'>\n"
          ]
        }
      ]
    },
    {
      "cell_type": "code",
      "source": [
        "train_size = int(len(data)*0.8)"
      ],
      "metadata": {
        "id": "galzb2J4tzAe"
      },
      "execution_count": null,
      "outputs": []
    },
    {
      "cell_type": "code",
      "source": [
        "name = data['اسم الكاتب']\n",
        "category = data['نوع الكتاب']"
      ],
      "metadata": {
        "id": "DLZXSn_CUx-r"
      },
      "execution_count": null,
      "outputs": []
    },
    {
      "cell_type": "code",
      "source": [
        "train_names = name[:train_size]\n",
        "train_categories = category[:train_size]"
      ],
      "metadata": {
        "id": "57bJxcsQVJqk"
      },
      "execution_count": null,
      "outputs": []
    },
    {
      "cell_type": "code",
      "source": [
        "test_names = name[train_size:]\n",
        "test_categories = category[train_size:]"
      ],
      "metadata": {
        "id": "BaZ0bauxVfte"
      },
      "execution_count": null,
      "outputs": []
    },
    {
      "cell_type": "code",
      "source": [
        "tokenizer = Tokenizer(num_words=None, lower=False)\n",
        "tokenizer.fit_on_texts(texts) "
      ],
      "metadata": {
        "id": "I5Kg9Jv4Vurv"
      },
      "execution_count": null,
      "outputs": []
    },
    {
      "cell_type": "code",
      "source": [
        "x_train = tokenizer.texts_to_matrix(train_names, mode='tfidf')  # tfidf  ---> every word have weight\n",
        "x_test = tokenizer.texts_to_matrix(test_names, mode='tfidf')\n"
      ],
      "metadata": {
        "id": "5SsfMe2xVyem"
      },
      "execution_count": null,
      "outputs": []
    },
    {
      "cell_type": "code",
      "source": [
        "with open('tokenizer.pickle', 'wb') as handle:\n",
        "    pickle.dump(tokenizer, handle, protocol=pickle.HIGHEST_PROTOCOL)"
      ],
      "metadata": {
        "id": "yMvfMu7lV27q"
      },
      "execution_count": null,
      "outputs": []
    },
    {
      "cell_type": "code",
      "source": [
        "with open('tokenizer.pickle', 'rb') as handle:\n",
        "    tokenizer = pickle.load(handle)"
      ],
      "metadata": {
        "id": "EmhnJ3LxV60q"
      },
      "execution_count": null,
      "outputs": []
    },
    {
      "cell_type": "code",
      "source": [
        "encoder = LabelEncoder()\n",
        "encoder.fit(category)\n",
        "tagst = encoder.fit_transform(category)"
      ],
      "metadata": {
        "id": "THOUeLQKWCJC"
      },
      "execution_count": null,
      "outputs": []
    },
    {
      "cell_type": "code",
      "source": [
        "num_classes = int((len(set(tagst))))"
      ],
      "metadata": {
        "id": "dAydF2heWLB1"
      },
      "execution_count": null,
      "outputs": []
    },
    {
      "cell_type": "code",
      "source": [
        "y_train = encoder.fit_transform(train_categories)\n",
        "y_test = encoder.fit_transform(test_categories)"
      ],
      "metadata": {
        "id": "TArT9bFxWMwx"
      },
      "execution_count": null,
      "outputs": []
    },
    {
      "cell_type": "code",
      "source": [
        "y_train = keras.utils.np_utils.to_categorical(y_train, num_classes)\n",
        "y_test = keras.utils.np_utils.to_categorical(y_test, num_classes)"
      ],
      "metadata": {
        "id": "l9Vs9D-FWOtx"
      },
      "execution_count": null,
      "outputs": []
    },
    {
      "cell_type": "code",
      "source": [
        "vocab_size = len(tokenizer.word_index) + 1"
      ],
      "metadata": {
        "id": "z5MLVzTFWYKw"
      },
      "execution_count": null,
      "outputs": []
    },
    {
      "cell_type": "code",
      "source": [
        "max_words = vocab_size"
      ],
      "metadata": {
        "id": "s5evISgaWbSA"
      },
      "execution_count": null,
      "outputs": []
    },
    {
      "cell_type": "code",
      "source": [
        "def f1_metric(y_true, y_pred):\n",
        "    true_positives = K.sum(K.round(K.clip(y_true * y_pred, 0, 1)))\n",
        "    possible_positives = K.sum(K.round(K.clip(y_true, 0, 1)))\n",
        "    predicted_positives = K.sum(K.round(K.clip(y_pred, 0, 1)))\n",
        "    precision = true_positives / (predicted_positives + K.epsilon())\n",
        "    recall = true_positives / (possible_positives + K.epsilon())\n",
        "    f1_val = 2 * (precision * recall) / (precision + recall + K.epsilon())\n",
        "    return f1_val\n"
      ],
      "metadata": {
        "id": "WA6O1nxXWfZa"
      },
      "execution_count": null,
      "outputs": []
    },
    {
      "cell_type": "code",
      "source": [
        "model = Sequential()\n",
        "model.add(Dense(1024, input_shape=(max_words,)))\n",
        "model.add(Activation('relu'))\n",
        "model.add(Dropout(0.5))\n",
        "model.add(Dense(num_classes))\n",
        "model.add(Activation('sigmoid'))"
      ],
      "metadata": {
        "id": "SmTkdEY-WoUI"
      },
      "execution_count": null,
      "outputs": []
    },
    {
      "cell_type": "code",
      "source": [
        "model.compile(loss='categorical_crossentropy',\n",
        "              optimizer='adam',\n",
        "              metrics=['categorical_accuracy', 'Recall', 'Precision',\n",
        "                       f1_metric, 'TruePositives', 'TrueNegatives', 'FalsePositives',\n",
        "                       'FalseNegatives'])\n"
      ],
      "metadata": {
        "id": "OtYLNwIGWzFx"
      },
      "execution_count": null,
      "outputs": []
    },
    {
      "cell_type": "code",
      "source": [
        "batch_size = 5\n",
        "epochs = 2"
      ],
      "metadata": {
        "id": "-iJeK2hJW5HO"
      },
      "execution_count": null,
      "outputs": []
    },
    {
      "cell_type": "code",
      "source": [
        "history = model.fit(x_train, y_train,\n",
        "                    batch_size=batch_size,\n",
        "                    epochs=epochs,\n",
        "                    verbose=1,\n",
        "                    validation_split=0.1)\n",
        "\n",
        "model.save('my_model.h1')"
      ],
      "metadata": {
        "colab": {
          "base_uri": "https://localhost:8080/"
        },
        "id": "dYbpwL1XW9vS",
        "outputId": "25675589-104a-4605-bc14-7d3c634a1710"
      },
      "execution_count": null,
      "outputs": [
        {
          "output_type": "stream",
          "name": "stdout",
          "text": [
            "Epoch 1/2\n",
            "99/99 [==============================] - 4s 20ms/step - loss: 2.0862 - categorical_accuracy: 0.2955 - recall: 0.4049 - precision: 0.1947 - f1_metric: 0.2733 - true_positives: 200.0000 - true_negatives: 6089.0000 - false_positives: 827.0000 - false_negatives: 294.0000 - val_loss: 6.1174 - val_categorical_accuracy: 0.0000e+00 - val_recall: 0.0000e+00 - val_precision: 0.0000e+00 - val_f1_metric: 0.0000e+00 - val_true_positives: 0.0000e+00 - val_true_negatives: 676.0000 - val_false_positives: 94.0000 - val_false_negatives: 55.0000\n",
            "Epoch 2/2\n",
            "99/99 [==============================] - 1s 8ms/step - loss: 1.1430 - categorical_accuracy: 0.6862 - recall: 0.7672 - precision: 0.4422 - f1_metric: 0.5799 - true_positives: 379.0000 - true_negatives: 6438.0000 - false_positives: 478.0000 - false_negatives: 115.0000 - val_loss: 7.4459 - val_categorical_accuracy: 0.0000e+00 - val_recall: 0.0000e+00 - val_precision: 0.0000e+00 - val_f1_metric: 0.0000e+00 - val_true_positives: 0.0000e+00 - val_true_negatives: 690.0000 - val_false_positives: 80.0000 - val_false_negatives: 55.0000\n",
            "INFO:tensorflow:Assets written to: my_model.h1/assets\n"
          ]
        }
      ]
    },
    {
      "cell_type": "code",
      "source": [
        "Evaluation_valus = model.evaluate(x_test, y_test, verbose=0)\n",
        "print(\"Loss\", 'categorical_accuracy', 'Recall', 'Precision',\n",
        "      'f1_metric', 'TruePositives', 'TrueNegatives', 'FalsePositives',\n",
        "      'FalseNegatives')\n",
        "\n",
        "print(Evaluation_valus)"
      ],
      "metadata": {
        "colab": {
          "base_uri": "https://localhost:8080/"
        },
        "id": "XfseqyILXYcL",
        "outputId": "98529e4d-dd55-4610-b53c-438db77af2c1"
      },
      "execution_count": null,
      "outputs": [
        {
          "output_type": "stream",
          "name": "stdout",
          "text": [
            "Loss categorical_accuracy Recall Precision f1_metric TruePositives TrueNegatives FalsePositives FalseNegatives\n",
            "[4.000485897064209, 0.0, 0.021739130839705467, 0.021276595070958138, 0.019999990239739418, 3.0, 1794.0, 138.0, 135.0]\n"
          ]
        }
      ]
    },
    {
      "cell_type": "code",
      "source": [
        "def unique(tags):\n",
        "    unique_list = []\n",
        "    un = []\n",
        "    for x in tags:\n",
        "        if x not in unique_list:\n",
        "            unique_list.append(x)\n",
        "\n",
        "    unique_list.sort()\n",
        "    return unique_list"
      ],
      "metadata": {
        "id": "ts8XcIScXd_2"
      },
      "execution_count": null,
      "outputs": []
    },
    {
      "cell_type": "code",
      "source": [
        "un_list=[]\n",
        "print(\"the unique values from 1st list is\")\n",
        "un_list =unique(category)\n",
        "print(un_list)"
      ],
      "metadata": {
        "colab": {
          "base_uri": "https://localhost:8080/"
        },
        "id": "iLcyqWgaXjjz",
        "outputId": "b2e5435a-8fd2-4142-e911-f42947ea7bca"
      },
      "execution_count": null,
      "outputs": [
        {
          "output_type": "stream",
          "name": "stdout",
          "text": [
            "the unique values from 1st list is\n",
            "['\\nأحمد تيمور\\n', '\\nالإمام أبو حامد الغزالي\\n', '\\nالشيخ يوسف القرضاوي\\n', '\\nالكاتب أحمد بن عبد الحليم بن عبد السلام بن تيمية\\n', '\\nالكاتب سلامة موسى\\n', '\\nالكاتب علي بن نايف الشحود\\n', '\\nالكاتب محمد بن إسماعيل البخاري\\n', '\\nالكاتب محمد عمارة\\n', '\\nالكاتب محمد قطب\\n', '\\nالكاتب محمود سالم\\n', '\\nالكاتب هارون يحيى\\nالكاتب هارون يحيى\\n', '\\nالكاتب والت ديزني\\n', '\\nدكتور محمد حسين هيكل\\n', '\\nعمرو بن بحر الجاحظ\\n', '\\nموريس لوبلان\\n']\n"
          ]
        }
      ]
    },
    {
      "cell_type": "code",
      "source": [
        "for x in data[\"اسم الكاتب\"][0:20]:\n",
        "    tokens = tokenizer.texts_to_matrix([x], mode='tfidf')\n",
        "    predict_x=model.predict(tokens) \n",
        "    classes_x=np.argmax(predict_x,axis=1)\n",
        "    print(predict_x,\"= \\t\",classes_x,\"\\t\")"
      ],
      "metadata": {
        "colab": {
          "base_uri": "https://localhost:8080/"
        },
        "id": "0Q0lbSRMX1M3",
        "outputId": "5c6736be-9c92-4a88-da98-2eeabd5f83aa"
      },
      "execution_count": null,
      "outputs": [
        {
          "output_type": "stream",
          "name": "stdout",
          "text": [
            "[[0.11701342 0.13565472 0.1102711  0.0010142  0.00141031 0.9907602\n",
            "  0.20095271 0.16809532 0.15946436 0.01980054 0.19851118 0.21425176\n",
            "  0.00181448 0.00179538 0.00151777]] = \t [5] \t\n",
            "[[6.9565982e-02 1.0777938e-01 9.9591255e-02 1.2812018e-03 1.8273294e-03\n",
            "  9.8877060e-01 2.6766372e-01 1.5858680e-01 1.9867641e-01 2.0876348e-02\n",
            "  2.2015226e-01 3.2182872e-01 1.6717613e-03 8.9368224e-04 1.2416840e-03]] = \t [5] \t\n",
            "[[0.10089561 0.12802836 0.10570839 0.00107393 0.00125253 0.9909345\n",
            "  0.20608485 0.18925038 0.18353602 0.02587163 0.24137545 0.20107862\n",
            "  0.00153196 0.001573   0.00108421]] = \t [5] \t\n",
            "[[0.09339958 0.12923455 0.09358698 0.00112998 0.00154316 0.98977935\n",
            "  0.3443358  0.16316661 0.21147922 0.03481078 0.2844209  0.30273706\n",
            "  0.00225756 0.00169101 0.001212  ]] = \t [5] \t\n",
            "[[0.08781704 0.12230787 0.1471267  0.00153264 0.00170124 0.98750293\n",
            "  0.1925942  0.1792098  0.19754994 0.02608037 0.2745298  0.28148085\n",
            "  0.00218192 0.00168854 0.00134206]] = \t [5] \t\n",
            "[[0.14081845 0.142892   0.09799147 0.00149396 0.00171241 0.98935837\n",
            "  0.18327343 0.18023843 0.17768177 0.02674884 0.2505408  0.25889158\n",
            "  0.00281534 0.00190401 0.00132093]] = \t [5] \t\n",
            "[[0.11713549 0.30168384 0.21468362 0.00986034 0.00762033 0.7918949\n",
            "  0.40453947 0.2749555  0.24354273 0.10095316 0.4007385  0.3823088\n",
            "  0.00616935 0.00680405 0.01205185]] = \t [5] \t\n",
            "[[0.07028493 0.12844887 0.15133649 0.00287622 0.0015018  0.8686956\n",
            "  0.27744818 0.2752748  0.16890237 0.0515995  0.2184616  0.2167587\n",
            "  0.00270918 0.00337571 0.00173578]] = \t [5] \t\n",
            "[[0.21084478 0.22660089 0.1749306  0.00497568 0.00240096 0.91989064\n",
            "  0.3688907  0.40473488 0.24214458 0.06049666 0.51035875 0.29939556\n",
            "  0.00351977 0.00714278 0.0036695 ]] = \t [5] \t\n",
            "[[0.12725613 0.24080712 0.18308693 0.00999221 0.00493905 0.8211156\n",
            "  0.31359205 0.35485137 0.23174849 0.04351804 0.2607944  0.2688642\n",
            "  0.00546378 0.00432274 0.00885379]] = \t [5] \t\n",
            "[[0.19919991 0.15787902 0.07911554 0.00370157 0.00150314 0.8014344\n",
            "  0.40527657 0.34090036 0.22528723 0.03016368 0.36585128 0.28138983\n",
            "  0.0015783  0.00222108 0.00195631]] = \t [5] \t\n",
            "[[0.16122153 0.21865046 0.13007128 0.00580186 0.00569165 0.8236418\n",
            "  0.46779284 0.29506028 0.25487494 0.10023847 0.39666665 0.36340415\n",
            "  0.00842616 0.00375086 0.00462297]] = \t [5] \t\n",
            "[[0.17485088 0.22775242 0.23742163 0.00506741 0.00304902 0.9085507\n",
            "  0.3997379  0.41044107 0.2081736  0.06946322 0.3377424  0.26042327\n",
            "  0.00507644 0.00342083 0.00434616]] = \t [5] \t\n",
            "[[0.06603169 0.14070925 0.10641345 0.00166091 0.00094891 0.93441963\n",
            "  0.35238296 0.5427775  0.18125471 0.02779663 0.19903994 0.39985216\n",
            "  0.00183207 0.00192204 0.0017575 ]] = \t [5] \t\n",
            "[[0.18569463 0.20841137 0.21533278 0.00578564 0.00496367 0.8376735\n",
            "  0.4550015  0.33899778 0.26829892 0.06490502 0.34440652 0.33461413\n",
            "  0.00530314 0.00837952 0.00811186]] = \t [5] \t\n",
            "[[1.2244955e-01 1.1241794e-01 1.0784900e-01 1.3959110e-03 9.3755126e-04\n",
            "  9.6378058e-01 2.8365058e-01 2.8546047e-01 2.2333038e-01 4.1226804e-02\n",
            "  1.7867845e-01 2.7634484e-01 2.3315549e-03 1.7107725e-03 1.0839105e-03]] = \t [5] \t\n",
            "[[0.15993753 0.308626   0.24217334 0.0137963  0.01055562 0.7290955\n",
            "  0.36357647 0.36094287 0.23969749 0.07807708 0.40004697 0.27226812\n",
            "  0.01293898 0.01453668 0.01640198]] = \t [5] \t\n",
            "[[0.1879015  0.24302399 0.23799425 0.0072014  0.0072259  0.7885327\n",
            "  0.4139595  0.28456077 0.31312594 0.05450535 0.24493468 0.34892392\n",
            "  0.00801373 0.00714371 0.00674477]] = \t [5] \t\n",
            "[[0.0939016  0.19756705 0.19437197 0.00357759 0.00228    0.7935469\n",
            "  0.3228516  0.83124745 0.21638304 0.06713855 0.16654503 0.26394954\n",
            "  0.00551876 0.00229773 0.0044013 ]] = \t [7] \t\n",
            "[[0.12984526 0.2543468  0.26538032 0.00917348 0.00575164 0.8266041\n",
            "  0.4519266  0.43987128 0.1858424  0.05496612 0.29012924 0.348826\n",
            "  0.00392538 0.00521526 0.00779641]] = \t [5] \t\n"
          ]
        }
      ]
    }
  ]
}